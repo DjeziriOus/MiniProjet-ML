{
 "cells": [
  {
   "cell_type": "code",
   "execution_count": 5,
   "metadata": {},
   "outputs": [
    {
     "name": "stdout",
     "output_type": "stream",
     "text": [
      "Dataset URL: https://www.kaggle.com/datasets/kanikanarang94/mooc-dataset\n",
      "   Unnamed: 0 institute course_id  year semester       userid_DI  viewed  \\\n",
      "0           4  HarvardX    PH207x  2012     Fall  MHxPC130313697       0   \n",
      "1           6  HarvardX    PH207x  2012     Fall  MHxPC130237753       1   \n",
      "2           7  HarvardX     CS50x  2012   Summer  MHxPC130202970       1   \n",
      "3          20  HarvardX     CS50x  2012   Summer  MHxPC130223941       1   \n",
      "4          22  HarvardX    PH207x  2012     Fall  MHxPC130317399       0   \n",
      "\n",
      "   explored  certified               final_cc_cname_DI  ... grade  \\\n",
      "0         0          0                           India  ...   0.0   \n",
      "1         0          0                   United States  ...   0.0   \n",
      "2         0          0                   United States  ...   0.0   \n",
      "3         0          0  Other Middle East/Central Asia  ...   0.0   \n",
      "4         0          0                       Australia  ...   0.0   \n",
      "\n",
      "  start_time_DI  last_event_DI nevents ndays_act  nplay_video  nchapters  \\\n",
      "0    2012-07-24     2013-07-27       6         3       197757          0   \n",
      "1    2012-07-24     2012-12-24     107         8            7          2   \n",
      "2    2012-07-24     2013-03-28       8         1       197757          1   \n",
      "3    2012-07-24     2013-07-15      25         2       197757          4   \n",
      "4    2012-07-24     2012-08-25       3         2       197757          0   \n",
      "\n",
      "   nforum_posts  incomplete_flag  age  \n",
      "0             0                0   23  \n",
      "1             0                0   19  \n",
      "2             0                0   24  \n",
      "3             0                0   20  \n",
      "4             0                0   32  \n",
      "\n",
      "[5 rows x 22 columns]\n"
     ]
    }
   ],
   "source": [
    "import os\n",
    "import pandas as pd\n",
    "from kaggle.api.kaggle_api_extended import KaggleApi\n",
    "\n",
    "# Step 1: Authenticate with Kaggle API\n",
    "api = KaggleApi()\n",
    "api.authenticate()\n",
    "\n",
    "# Step 2: Download the dataset directly and extract\n",
    "dataset = \"kanikanarang94/mooc-dataset\"\n",
    "destination = \"mooc_dataset\"\n",
    "os.makedirs(destination, exist_ok=True)\n",
    "api.dataset_download_files(dataset, path=destination, unzip=True)\n",
    "\n",
    "# Step 3: Load the dataset into a DataFrame\n",
    "csv_path = os.path.join(destination, \"big_student_clear_third_version.csv\")\n",
    "df = pd.read_csv(csv_path)\n",
    "\n",
    "# Step 4: Display the first few rows\n",
    "print(df.head())\n"
   ]
  }
 ],
 "metadata": {
  "kernelspec": {
   "display_name": "Python 3",
   "language": "python",
   "name": "python3"
  },
  "language_info": {
   "codemirror_mode": {
    "name": "ipython",
    "version": 3
   },
   "file_extension": ".py",
   "mimetype": "text/x-python",
   "name": "python",
   "nbconvert_exporter": "python",
   "pygments_lexer": "ipython3",
   "version": "3.12.8"
  }
 },
 "nbformat": 4,
 "nbformat_minor": 2
}

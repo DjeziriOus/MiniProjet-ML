{
 "cells": [
  {
   "cell_type": "code",
   "execution_count": 4,
   "metadata": {},
   "outputs": [
    {
     "name": "stdout",
     "output_type": "stream",
     "text": [
      "<class 'pandas.core.frame.DataFrame'>\n",
      "RangeIndex: 10000 entries, 0 to 9999\n",
      "Data columns (total 22 columns):\n",
      " #   Column             Non-Null Count  Dtype  \n",
      "---  ------             --------------  -----  \n",
      " 0   Unnamed: 0         10000 non-null  int64  \n",
      " 1   institute          10000 non-null  object \n",
      " 2   course_id          10000 non-null  object \n",
      " 3   year               10000 non-null  int64  \n",
      " 4   semester           10000 non-null  object \n",
      " 5   userid_DI          10000 non-null  object \n",
      " 6   viewed             10000 non-null  int64  \n",
      " 7   explored           10000 non-null  int64  \n",
      " 8   certified          10000 non-null  int64  \n",
      " 9   final_cc_cname_DI  10000 non-null  object \n",
      " 10  LoE_DI             10000 non-null  object \n",
      " 11  gender             9722 non-null   object \n",
      " 12  grade              10000 non-null  float64\n",
      " 13  start_time_DI      10000 non-null  object \n",
      " 14  last_event_DI      10000 non-null  object \n",
      " 15  nevents            10000 non-null  int64  \n",
      " 16  ndays_act          10000 non-null  int64  \n",
      " 17  nplay_video        10000 non-null  int64  \n",
      " 18  nchapters          10000 non-null  int64  \n",
      " 19  nforum_posts       10000 non-null  int64  \n",
      " 20  incomplete_flag    10000 non-null  int64  \n",
      " 21  age                10000 non-null  int64  \n",
      "dtypes: float64(1), int64(12), object(9)\n",
      "memory usage: 1.7+ MB\n"
     ]
    },
    {
     "data": {
      "text/plain": [
       "(   Unnamed: 0 institute course_id  year semester       userid_DI  viewed  \\\n",
       " 0           4  HarvardX    PH207x  2012     Fall  MHxPC130313697       0   \n",
       " 1           6  HarvardX    PH207x  2012     Fall  MHxPC130237753       1   \n",
       " 2           7  HarvardX     CS50x  2012   Summer  MHxPC130202970       1   \n",
       " 3          20  HarvardX     CS50x  2012   Summer  MHxPC130223941       1   \n",
       " 4          22  HarvardX    PH207x  2012     Fall  MHxPC130317399       0   \n",
       " \n",
       "    explored  certified               final_cc_cname_DI  ... grade  \\\n",
       " 0         0          0                           India  ...   0.0   \n",
       " 1         0          0                   United States  ...   0.0   \n",
       " 2         0          0                   United States  ...   0.0   \n",
       " 3         0          0  Other Middle East/Central Asia  ...   0.0   \n",
       " 4         0          0                       Australia  ...   0.0   \n",
       " \n",
       "   start_time_DI  last_event_DI nevents ndays_act  nplay_video  nchapters  \\\n",
       " 0    2012-07-24     2013-07-27       6         3       197757          0   \n",
       " 1    2012-07-24     2012-12-24     107         8            7          2   \n",
       " 2    2012-07-24     2013-03-28       8         1       197757          1   \n",
       " 3    2012-07-24     2013-07-15      25         2       197757          4   \n",
       " 4    2012-07-24     2012-08-25       3         2       197757          0   \n",
       " \n",
       "    nforum_posts  incomplete_flag  age  \n",
       " 0             0                0   23  \n",
       " 1             0                0   19  \n",
       " 2             0                0   24  \n",
       " 3             0                0   20  \n",
       " 4             0                0   32  \n",
       " \n",
       " [5 rows x 22 columns],\n",
       " None)"
      ]
     },
     "execution_count": 4,
     "metadata": {},
     "output_type": "execute_result"
    }
   ],
   "source": [
    "import pandas as pd\n",
    "\n",
    "# Load the uploaded dataset to check its structure and contents\n",
    "file_path = 'output_truncated.csv'\n",
    "data = pd.read_csv(file_path)\n",
    "\n",
    "# Display the first few rows and basic information about the dataset\n",
    "data.head(), data.info()\n"
   ]
  },
  {
   "cell_type": "code",
   "execution_count": 5,
   "metadata": {},
   "outputs": [
    {
     "name": "stderr",
     "output_type": "stream",
     "text": [
      "C:\\Users\\xps\\AppData\\Local\\Temp\\ipykernel_12068\\2888835120.py:9: FutureWarning: A value is trying to be set on a copy of a DataFrame or Series through chained assignment using an inplace method.\n",
      "The behavior will change in pandas 3.0. This inplace method will never work because the intermediate object on which we are setting values always behaves as a copy.\n",
      "\n",
      "For example, when doing 'df[col].method(value, inplace=True)', try using 'df.method({col: value}, inplace=True)' or df[col] = df[col].method(value) instead, to perform the operation inplace on the original object.\n",
      "\n",
      "\n",
      "  data_cleaned[\"gender\"].fillna(\"Unknown\", inplace=True)\n"
     ]
    },
    {
     "data": {
      "text/plain": [
       "(             year        viewed     explored     certified         grade  \\\n",
       " count  10000.0000  10000.000000  10000.00000  10000.000000  10000.000000   \n",
       " mean    2012.3054      0.634500      0.12700      0.039300      0.045015   \n",
       " std        0.4606      0.481594      0.33299      0.194317      0.186466   \n",
       " min     2012.0000      0.000000      0.00000      0.000000      0.000000   \n",
       " 25%     2012.0000      0.000000      0.00000      0.000000      0.000000   \n",
       " 50%     2012.0000      1.000000      0.00000      0.000000      0.000000   \n",
       " 75%     2013.0000      1.000000      0.00000      0.000000      0.000000   \n",
       " max     2013.0000      1.000000      1.00000      1.000000      1.000000   \n",
       " \n",
       "             nevents     ndays_act   nplay_video     nchapters  nforum_posts  \\\n",
       " count  10000.000000  10000.000000   10000.00000  10000.000000  10000.000000   \n",
       " mean     274.662400      5.359300  157314.20570      2.901700      0.019400   \n",
       " std     1151.748456     10.133601   79720.67733      4.607728      0.209351   \n",
       " min        0.000000      0.000000       1.00000      0.000000      0.000000   \n",
       " 25%        2.000000      1.000000  197757.00000      0.000000      0.000000   \n",
       " 50%       10.000000      2.000000  197757.00000      1.000000      0.000000   \n",
       " 75%       82.000000      4.000000  197757.00000      3.000000      0.000000   \n",
       " max    31416.000000     98.000000  197757.00000     34.000000      6.000000   \n",
       " \n",
       "                age  \n",
       " count  10000.00000  \n",
       " mean      28.38720  \n",
       " std        8.74536  \n",
       " min        0.00000  \n",
       " 25%       22.00000  \n",
       " 50%       26.00000  \n",
       " 75%       32.00000  \n",
       " max       76.00000  ,\n",
       "   course_id  year  viewed  explored  certified  grade  nevents  ndays_act  \\\n",
       " 0    PH207x  2012       0         0          0    0.0        6          3   \n",
       " 1    PH207x  2012       1         0          0    0.0      107          8   \n",
       " 2     CS50x  2012       1         0          0    0.0        8          1   \n",
       " 3     CS50x  2012       1         0          0    0.0       25          2   \n",
       " 4    PH207x  2012       0         0          0    0.0        3          2   \n",
       " \n",
       "    nplay_video  nchapters  ...  final_cc_cname_DI_Ukraine  \\\n",
       " 0       197757          0  ...                      False   \n",
       " 1            7          2  ...                      False   \n",
       " 2       197757          1  ...                      False   \n",
       " 3       197757          4  ...                      False   \n",
       " 4       197757          0  ...                      False   \n",
       " \n",
       "    final_cc_cname_DI_United Kingdom  final_cc_cname_DI_United States  \\\n",
       " 0                             False                            False   \n",
       " 1                             False                             True   \n",
       " 2                             False                             True   \n",
       " 3                             False                            False   \n",
       " 4                             False                            False   \n",
       " \n",
       "    final_cc_cname_DI_Unknown/Other  LoE_DI_Doctorate  \\\n",
       " 0                            False             False   \n",
       " 1                            False             False   \n",
       " 2                            False             False   \n",
       " 3                            False             False   \n",
       " 4                            False             False   \n",
       " \n",
       "    LoE_DI_Less than Secondary  LoE_DI_Master's  LoE_DI_Secondary  gender_f  \\\n",
       " 0                       False            False             False     False   \n",
       " 1                       False            False              True     False   \n",
       " 2                       False            False             False     False   \n",
       " 3                       False            False              True     False   \n",
       " 4                       False             True             False      True   \n",
       " \n",
       "    gender_m  \n",
       " 0      True  \n",
       " 1      True  \n",
       " 2      True  \n",
       " 3      True  \n",
       " 4     False  \n",
       " \n",
       " [5 rows x 53 columns])"
      ]
     },
     "execution_count": 5,
     "metadata": {},
     "output_type": "execute_result"
    }
   ],
   "source": [
    "# Dropping irrelevant or redundant columns\n",
    "# Keeping columns related to the features of interest and dropping unnecessary ones\n",
    "data_cleaned = data.drop(\n",
    "    columns=[\"Unnamed: 0\", \"start_time_DI\", \"last_event_DI\", \"userid_DI\", \"incomplete_flag\"]\n",
    ")\n",
    "\n",
    "# Handling missing values\n",
    "# For categorical data, replace missing values with a placeholder or mode\n",
    "data_cleaned[\"gender\"].fillna(\"Unknown\", inplace=True)\n",
    "\n",
    "# Encoding categorical variables\n",
    "categorical_columns = [\"institute\", \"semester\", \"final_cc_cname_DI\", \"LoE_DI\", \"gender\"]\n",
    "data_encoded = pd.get_dummies(data_cleaned, columns=categorical_columns, drop_first=True)\n",
    "\n",
    "# Display basic stats and a sample of the cleaned dataset\n",
    "data_encoded.describe(), data_encoded.head()\n"
   ]
  },
  {
   "cell_type": "code",
   "execution_count": 6,
   "metadata": {},
   "outputs": [
    {
     "ename": "KeyError",
     "evalue": "'userid_DI'",
     "output_type": "error",
     "traceback": [
      "\u001b[1;31m---------------------------------------------------------------------------\u001b[0m",
      "\u001b[1;31mKeyError\u001b[0m                                  Traceback (most recent call last)",
      "Cell \u001b[1;32mIn[6], line 2\u001b[0m\n\u001b[0;32m      1\u001b[0m \u001b[38;5;66;03m# Group data by users and aggregate the courses they enrolled in\u001b[39;00m\n\u001b[1;32m----> 2\u001b[0m user_courses \u001b[38;5;241m=\u001b[39m \u001b[43mdata_cleaned\u001b[49m\u001b[38;5;241;43m.\u001b[39;49m\u001b[43mgroupby\u001b[49m\u001b[43m(\u001b[49m\u001b[38;5;124;43m\"\u001b[39;49m\u001b[38;5;124;43muserid_DI\u001b[39;49m\u001b[38;5;124;43m\"\u001b[39;49m\u001b[43m)\u001b[49m[\u001b[38;5;124m\"\u001b[39m\u001b[38;5;124mcourse_id\u001b[39m\u001b[38;5;124m\"\u001b[39m]\u001b[38;5;241m.\u001b[39mapply(\u001b[38;5;28mlist\u001b[39m)\u001b[38;5;241m.\u001b[39mreset_index()\n\u001b[0;32m      4\u001b[0m \u001b[38;5;66;03m# Display a sample of the aggregated data\u001b[39;00m\n\u001b[0;32m      5\u001b[0m user_courses\u001b[38;5;241m.\u001b[39mhead()\n",
      "File \u001b[1;32m~\\AppData\\Local\\Packages\\PythonSoftwareFoundation.Python.3.12_qbz5n2kfra8p0\\LocalCache\\local-packages\\Python312\\site-packages\\pandas\\core\\frame.py:9183\u001b[0m, in \u001b[0;36mDataFrame.groupby\u001b[1;34m(self, by, axis, level, as_index, sort, group_keys, observed, dropna)\u001b[0m\n\u001b[0;32m   9180\u001b[0m \u001b[38;5;28;01mif\u001b[39;00m level \u001b[38;5;129;01mis\u001b[39;00m \u001b[38;5;28;01mNone\u001b[39;00m \u001b[38;5;129;01mand\u001b[39;00m by \u001b[38;5;129;01mis\u001b[39;00m \u001b[38;5;28;01mNone\u001b[39;00m:\n\u001b[0;32m   9181\u001b[0m     \u001b[38;5;28;01mraise\u001b[39;00m \u001b[38;5;167;01mTypeError\u001b[39;00m(\u001b[38;5;124m\"\u001b[39m\u001b[38;5;124mYou have to supply one of \u001b[39m\u001b[38;5;124m'\u001b[39m\u001b[38;5;124mby\u001b[39m\u001b[38;5;124m'\u001b[39m\u001b[38;5;124m and \u001b[39m\u001b[38;5;124m'\u001b[39m\u001b[38;5;124mlevel\u001b[39m\u001b[38;5;124m'\u001b[39m\u001b[38;5;124m\"\u001b[39m)\n\u001b[1;32m-> 9183\u001b[0m \u001b[38;5;28;01mreturn\u001b[39;00m \u001b[43mDataFrameGroupBy\u001b[49m\u001b[43m(\u001b[49m\n\u001b[0;32m   9184\u001b[0m \u001b[43m    \u001b[49m\u001b[43mobj\u001b[49m\u001b[38;5;241;43m=\u001b[39;49m\u001b[38;5;28;43mself\u001b[39;49m\u001b[43m,\u001b[49m\n\u001b[0;32m   9185\u001b[0m \u001b[43m    \u001b[49m\u001b[43mkeys\u001b[49m\u001b[38;5;241;43m=\u001b[39;49m\u001b[43mby\u001b[49m\u001b[43m,\u001b[49m\n\u001b[0;32m   9186\u001b[0m \u001b[43m    \u001b[49m\u001b[43maxis\u001b[49m\u001b[38;5;241;43m=\u001b[39;49m\u001b[43maxis\u001b[49m\u001b[43m,\u001b[49m\n\u001b[0;32m   9187\u001b[0m \u001b[43m    \u001b[49m\u001b[43mlevel\u001b[49m\u001b[38;5;241;43m=\u001b[39;49m\u001b[43mlevel\u001b[49m\u001b[43m,\u001b[49m\n\u001b[0;32m   9188\u001b[0m \u001b[43m    \u001b[49m\u001b[43mas_index\u001b[49m\u001b[38;5;241;43m=\u001b[39;49m\u001b[43mas_index\u001b[49m\u001b[43m,\u001b[49m\n\u001b[0;32m   9189\u001b[0m \u001b[43m    \u001b[49m\u001b[43msort\u001b[49m\u001b[38;5;241;43m=\u001b[39;49m\u001b[43msort\u001b[49m\u001b[43m,\u001b[49m\n\u001b[0;32m   9190\u001b[0m \u001b[43m    \u001b[49m\u001b[43mgroup_keys\u001b[49m\u001b[38;5;241;43m=\u001b[39;49m\u001b[43mgroup_keys\u001b[49m\u001b[43m,\u001b[49m\n\u001b[0;32m   9191\u001b[0m \u001b[43m    \u001b[49m\u001b[43mobserved\u001b[49m\u001b[38;5;241;43m=\u001b[39;49m\u001b[43mobserved\u001b[49m\u001b[43m,\u001b[49m\n\u001b[0;32m   9192\u001b[0m \u001b[43m    \u001b[49m\u001b[43mdropna\u001b[49m\u001b[38;5;241;43m=\u001b[39;49m\u001b[43mdropna\u001b[49m\u001b[43m,\u001b[49m\n\u001b[0;32m   9193\u001b[0m \u001b[43m\u001b[49m\u001b[43m)\u001b[49m\n",
      "File \u001b[1;32m~\\AppData\\Local\\Packages\\PythonSoftwareFoundation.Python.3.12_qbz5n2kfra8p0\\LocalCache\\local-packages\\Python312\\site-packages\\pandas\\core\\groupby\\groupby.py:1329\u001b[0m, in \u001b[0;36mGroupBy.__init__\u001b[1;34m(self, obj, keys, axis, level, grouper, exclusions, selection, as_index, sort, group_keys, observed, dropna)\u001b[0m\n\u001b[0;32m   1326\u001b[0m \u001b[38;5;28mself\u001b[39m\u001b[38;5;241m.\u001b[39mdropna \u001b[38;5;241m=\u001b[39m dropna\n\u001b[0;32m   1328\u001b[0m \u001b[38;5;28;01mif\u001b[39;00m grouper \u001b[38;5;129;01mis\u001b[39;00m \u001b[38;5;28;01mNone\u001b[39;00m:\n\u001b[1;32m-> 1329\u001b[0m     grouper, exclusions, obj \u001b[38;5;241m=\u001b[39m \u001b[43mget_grouper\u001b[49m\u001b[43m(\u001b[49m\n\u001b[0;32m   1330\u001b[0m \u001b[43m        \u001b[49m\u001b[43mobj\u001b[49m\u001b[43m,\u001b[49m\n\u001b[0;32m   1331\u001b[0m \u001b[43m        \u001b[49m\u001b[43mkeys\u001b[49m\u001b[43m,\u001b[49m\n\u001b[0;32m   1332\u001b[0m \u001b[43m        \u001b[49m\u001b[43maxis\u001b[49m\u001b[38;5;241;43m=\u001b[39;49m\u001b[43maxis\u001b[49m\u001b[43m,\u001b[49m\n\u001b[0;32m   1333\u001b[0m \u001b[43m        \u001b[49m\u001b[43mlevel\u001b[49m\u001b[38;5;241;43m=\u001b[39;49m\u001b[43mlevel\u001b[49m\u001b[43m,\u001b[49m\n\u001b[0;32m   1334\u001b[0m \u001b[43m        \u001b[49m\u001b[43msort\u001b[49m\u001b[38;5;241;43m=\u001b[39;49m\u001b[43msort\u001b[49m\u001b[43m,\u001b[49m\n\u001b[0;32m   1335\u001b[0m \u001b[43m        \u001b[49m\u001b[43mobserved\u001b[49m\u001b[38;5;241;43m=\u001b[39;49m\u001b[38;5;28;43;01mFalse\u001b[39;49;00m\u001b[43m \u001b[49m\u001b[38;5;28;43;01mif\u001b[39;49;00m\u001b[43m \u001b[49m\u001b[43mobserved\u001b[49m\u001b[43m \u001b[49m\u001b[38;5;129;43;01mis\u001b[39;49;00m\u001b[43m \u001b[49m\u001b[43mlib\u001b[49m\u001b[38;5;241;43m.\u001b[39;49m\u001b[43mno_default\u001b[49m\u001b[43m \u001b[49m\u001b[38;5;28;43;01melse\u001b[39;49;00m\u001b[43m \u001b[49m\u001b[43mobserved\u001b[49m\u001b[43m,\u001b[49m\n\u001b[0;32m   1336\u001b[0m \u001b[43m        \u001b[49m\u001b[43mdropna\u001b[49m\u001b[38;5;241;43m=\u001b[39;49m\u001b[38;5;28;43mself\u001b[39;49m\u001b[38;5;241;43m.\u001b[39;49m\u001b[43mdropna\u001b[49m\u001b[43m,\u001b[49m\n\u001b[0;32m   1337\u001b[0m \u001b[43m    \u001b[49m\u001b[43m)\u001b[49m\n\u001b[0;32m   1339\u001b[0m \u001b[38;5;28;01mif\u001b[39;00m observed \u001b[38;5;129;01mis\u001b[39;00m lib\u001b[38;5;241m.\u001b[39mno_default:\n\u001b[0;32m   1340\u001b[0m     \u001b[38;5;28;01mif\u001b[39;00m \u001b[38;5;28many\u001b[39m(ping\u001b[38;5;241m.\u001b[39m_passed_categorical \u001b[38;5;28;01mfor\u001b[39;00m ping \u001b[38;5;129;01min\u001b[39;00m grouper\u001b[38;5;241m.\u001b[39mgroupings):\n",
      "File \u001b[1;32m~\\AppData\\Local\\Packages\\PythonSoftwareFoundation.Python.3.12_qbz5n2kfra8p0\\LocalCache\\local-packages\\Python312\\site-packages\\pandas\\core\\groupby\\grouper.py:1043\u001b[0m, in \u001b[0;36mget_grouper\u001b[1;34m(obj, key, axis, level, sort, observed, validate, dropna)\u001b[0m\n\u001b[0;32m   1041\u001b[0m         in_axis, level, gpr \u001b[38;5;241m=\u001b[39m \u001b[38;5;28;01mFalse\u001b[39;00m, gpr, \u001b[38;5;28;01mNone\u001b[39;00m\n\u001b[0;32m   1042\u001b[0m     \u001b[38;5;28;01melse\u001b[39;00m:\n\u001b[1;32m-> 1043\u001b[0m         \u001b[38;5;28;01mraise\u001b[39;00m \u001b[38;5;167;01mKeyError\u001b[39;00m(gpr)\n\u001b[0;32m   1044\u001b[0m \u001b[38;5;28;01melif\u001b[39;00m \u001b[38;5;28misinstance\u001b[39m(gpr, Grouper) \u001b[38;5;129;01mand\u001b[39;00m gpr\u001b[38;5;241m.\u001b[39mkey \u001b[38;5;129;01mis\u001b[39;00m \u001b[38;5;129;01mnot\u001b[39;00m \u001b[38;5;28;01mNone\u001b[39;00m:\n\u001b[0;32m   1045\u001b[0m     \u001b[38;5;66;03m# Add key to exclusions\u001b[39;00m\n\u001b[0;32m   1046\u001b[0m     exclusions\u001b[38;5;241m.\u001b[39madd(gpr\u001b[38;5;241m.\u001b[39mkey)\n",
      "\u001b[1;31mKeyError\u001b[0m: 'userid_DI'"
     ]
    }
   ],
   "source": [
    "# Group data by users and aggregate the courses they enrolled in\n",
    "user_courses = data_cleaned.groupby(\"userid_DI\")[\"course_id\"].apply(list).reset_index()\n",
    "\n",
    "# Display a sample of the aggregated data\n",
    "user_courses.head()"
   ]
  }
 ],
 "metadata": {
  "kernelspec": {
   "display_name": "Python 3",
   "language": "python",
   "name": "python3"
  },
  "language_info": {
   "codemirror_mode": {
    "name": "ipython",
    "version": 3
   },
   "file_extension": ".py",
   "mimetype": "text/x-python",
   "name": "python",
   "nbconvert_exporter": "python",
   "pygments_lexer": "ipython3",
   "version": "3.12.8"
  }
 },
 "nbformat": 4,
 "nbformat_minor": 2
}
